{
 "cells": [
  {
   "cell_type": "markdown",
   "metadata": {},
   "source": [
    "## Adversarial data augmentation\n",
    "Adversarial data augmentation is the technique of traning the neural network for the second time with adversarial examples created for the specified network and getting a neural network that's more robust to adversarial examples\n",
    "\n",
    "This demo is demonstrating how to frame the problem of finding adversarial examples into a optimization problem and solve them effectively."
   ]
  },
  {
   "cell_type": "markdown",
   "metadata": {},
   "source": [
    "## Adversarial data augmentation intuition\n",
    "At a high level, neural network's hyperplane normally look something like this:\n",
    "\n",
    "<img src=\"neural.png\" alt=\"Drawing\" style=\"width: 600px;\"/>\n",
    "\n",
    "Where the hyperplane is overfitting to the data, thus if we have a data point really close to the training data but moved in the spikes' direction, we will have a misclassification:\n",
    "\n",
    "<img src=\"adversarial_example.png\" alt=\"Drawing1\" style=\"width: 600px;\"/>\n",
    "\n",
    "Thus, training on adversarial examples can kill off the spikes and make the decision boundary smooth, AKA large margin:\n",
    "\n",
    "<img src=\"adversarial_training.png\" alt=\"Drawing2\" style=\"width: 600px;\"/>\n",
    "\n",
    "This is the basic intuition of adversarial data augmentation."
   ]
  },
  {
   "cell_type": "markdown",
   "metadata": {},
   "source": [
    "## load modules and pretrained 99.25% accuracy CNN"
   ]
  },
  {
   "cell_type": "code",
   "execution_count": 2,
   "metadata": {},
   "outputs": [
    {
     "name": "stderr",
     "output_type": "stream",
     "text": [
      "Using TensorFlow backend.\n"
     ]
    },
    {
     "name": "stdout",
     "output_type": "stream",
     "text": [
      "_________________________________________________________________\n",
      "Layer (type)                 Output Shape              Param #   \n",
      "=================================================================\n",
      "conv2d_1 (Conv2D)            (None, 26, 26, 32)        320       \n",
      "_________________________________________________________________\n",
      "conv2d_2 (Conv2D)            (None, 24, 24, 64)        18496     \n",
      "_________________________________________________________________\n",
      "max_pooling2d_1 (MaxPooling2 (None, 12, 12, 64)        0         \n",
      "_________________________________________________________________\n",
      "dropout_1 (Dropout)          (None, 12, 12, 64)        0         \n",
      "_________________________________________________________________\n",
      "flatten_1 (Flatten)          (None, 9216)              0         \n",
      "_________________________________________________________________\n",
      "dense_1 (Dense)              (None, 128)               1179776   \n",
      "_________________________________________________________________\n",
      "dropout_2 (Dropout)          (None, 128)               0         \n",
      "_________________________________________________________________\n",
      "dense_2 (Dense)              (None, 10)                1290      \n",
      "=================================================================\n",
      "Total params: 1,199,882\n",
      "Trainable params: 1,199,882\n",
      "Non-trainable params: 0\n",
      "_________________________________________________________________\n"
     ]
    },
    {
     "name": "stderr",
     "output_type": "stream",
     "text": [
      "/Library/Frameworks/Python.framework/Versions/3.6/lib/python3.6/site-packages/keras/engine/saving.py:327: UserWarning: Error in loading the saved optimizer state. As a result, your model is starting with a freshly initialized optimizer.\n",
      "  warnings.warn('Error in loading the saved optimizer '\n"
     ]
    }
   ],
   "source": [
    "%matplotlib inline\n",
    "import matplotlib.pyplot as plt\n",
    "import numpy as np\n",
    "import PIL\n",
    "import tensorflow as tf\n",
    "from keras.models import load_model\n",
    "from keras import backend as K\n",
    "\n",
    "model = load_model('/Users/zetong/cnn.h5')\n",
    "model.summary()"
   ]
  },
  {
   "cell_type": "markdown",
   "metadata": {},
   "source": [
    "## helper functions\n",
    "Image loader, image visualization tools"
   ]
  },
  {
   "cell_type": "code",
   "execution_count": 3,
   "metadata": {},
   "outputs": [],
   "source": [
    "# load the image from MNIST dataset into [1,28,28,1] dimension\n",
    "def load_image(image_location):\n",
    "    x = np.asarray(PIL.Image.open(image_location))\n",
    "    x = x.reshape(28,28)\n",
    "    x = x.reshape(1, 28, 28, 1)\n",
    "    x = x.astype('float32')\n",
    "    x /= 255\n",
    "    return x\n",
    "\n",
    "# putting the adversarial examples and their misclassification labels in subplots\n",
    "def plot_adversarials(attacks, predicted_labels):\n",
    "    w=10\n",
    "    h=10\n",
    "    fig=plt.figure(figsize=(8, 8))\n",
    "    columns = len(attacks)\n",
    "    rows = 1\n",
    "    for i in range(1, columns*rows+1):\n",
    "        ax = fig.add_subplot(rows, columns, i)\n",
    "        ax.title.set_text(str(predicted_labels[i-1]))\n",
    "        plt.imshow(attacks[i-1].reshape((28,28)), cmap='Greys')\n",
    "    plt.show()\n",
    "    return\n",
    "\n",
    "# a helper function to visualize a list of adversarial examples\n",
    "def visualize_adversarials(attacks):\n",
    "    w=10\n",
    "    h=10\n",
    "    fig=plt.figure(figsize=(8, 8))\n",
    "    columns = len(attacks)\n",
    "    rows = 1\n",
    "    for i in range(1, columns*rows+1):\n",
    "        ax = fig.add_subplot(rows, columns, i)\n",
    "        plt.imshow(attacks[i-1].reshape((28,28)), cmap='Greys')\n",
    "    plt.show()\n",
    "    return"
   ]
  },
  {
   "cell_type": "markdown",
   "metadata": {},
   "source": [
    "## Carlini&Wagner L2 attack\n",
    "The Carlini&Wagner attack is solving the following optimization problem:\n",
    "\n",
    "$ min_w \\left\\lVert\\frac{1}{2}(\\tanh(w)+1-x)\\right\\lVert^2_2 + cf(\\frac{1}{2}(\\tanh(w)+1)$\n",
    "\n",
    "where $f(x^{\\prime})$ is defined as:\n",
    "\n",
    "$f(x^{\\prime}) = max(max({Z(x^{\\prime}_i: i \\neq t)} - Z(x^{\\prime}_t)), -k)$\n",
    "\n",
    "The relationship between $\\delta$, w and x:\n",
    "\n",
    "$\\delta = \\frac{1}{2}(\\tanh(w)+1) - x$\n",
    "\n",
    "Where $\\delta$ is the noise, x is the original image, $\\frac{1}{2}(\\tanh(w)+1)$ is the adversarial example"
   ]
  },
  {
   "cell_type": "code",
   "execution_count": 8,
   "metadata": {},
   "outputs": [],
   "source": [
    "class cwl2:\n",
    "    def __init__(self, sess, model, K=0, max_iterations=1000, step_size=0.1, initial_cost=10, SEARCH_STEPS=9):\n",
    "        self.sess = sess\n",
    "        self.model = model\n",
    "        self.K = K\n",
    "        self.max_iterations = max_iterations\n",
    "        self.step_size = step_size\n",
    "        self.initial_cost = initial_cost\n",
    "        self.SEARCH_STEPS = SEARCH_STEPS\n",
    "        self.num_classes = 10\n",
    "    \n",
    "    # return the logits tensor and the nontarget index logits tensor\n",
    "    def get_logits_and_nontarget_logits(self, x_new, target):\n",
    "        logits = self.model(x_new)\n",
    "        return logits, tf.concat([logits[0][0:target], logits[0][target:-1]], 0)\n",
    "    \n",
    "    # the loss function for l2 attack\n",
    "    def loss(self, x_new, x, target, c):\n",
    "        logits, nontarget_logits = self.get_logits_and_nontarget_logits(x_new, target)\n",
    "        return tf.norm(x_new-x)**2 + c*tf.math.maximum(tf.math.reduce_max(nontarget_logits) - logits[0][target], -self.K)\n",
    "        \n",
    "    # search for the best adversarial examples\n",
    "    def find_best_attack(self, x, target, DEBUG=1):\n",
    "        # all the valid attacks\n",
    "        attacks = []\n",
    "        # initial c value\n",
    "        c = self.initial_cost\n",
    "        # confidence parameter\n",
    "        K = self.K\n",
    "        # initialize all global variables\n",
    "        self.sess.run(tf.global_variables_initializer())\n",
    "        # for every search steps\n",
    "        for s in range(self.SEARCH_STEPS):\n",
    "            # the adversarial example the algorithm is searching for\n",
    "            x_new = tf.Variable(np.zeros([1,28,28,1]), dtype=tf.float32)\n",
    "            loss = self.loss(x_new, x, target, c)\n",
    "            start_vars = set(x.name for x in tf.global_variables())\n",
    "            train = tf.train.AdamOptimizer(self.step_size).minimize(loss, var_list=[x_new])\n",
    "            end_vars = tf.global_variables()\n",
    "            # variables in Adam optimizer\n",
    "            new_vars = [x for x in end_vars if x.name not in start_vars]\n",
    "            # initilize x_new and Adam optimizer variables\n",
    "            self.sess.run(tf.variables_initializer(var_list=[x_new]+new_vars))\n",
    "            \n",
    "            for i in range(self.max_iterations):\n",
    "                self.sess.run(train)\n",
    "            new_img = self.sess.run(x_new)\n",
    "            # if the attack is sucessful\n",
    "            if np.argmax(self.model.predict(new_img)) == target:\n",
    "                # add it to the valid attacks collection\n",
    "                attacks.append(new_img)\n",
    "                # decrease c value to try to find an attack with less perturbation\n",
    "                c = c*0.5\n",
    "            # if the attack failed\n",
    "            else:\n",
    "                # increase c value to enforce the solver to find a sucessful attack\n",
    "                c = c*10\n",
    "            # if debug mode, print out the each search step's detail\n",
    "            if DEBUG == 1:\n",
    "                print(s+1, \"/\", self.SEARCH_STEPS, \"search steps\")\n",
    "                print(\"c value:\", c)\n",
    "                print(len(attacks), \"adversarials examples found\")\n",
    "        # let the best attack to be the one with the smallest perturbation\n",
    "        noise_norms = []\n",
    "        for i in range(len(attacks)):\n",
    "            noise_norms.append(np.linalg.norm(attacks[i] - x))\n",
    "        best_attack = attacks[np.argmin(noise_norms)]\n",
    "        return best_attack, attacks\n",
    "    \n",
    "    def untargeted_attack(self, x, true_label):\n",
    "        attacks = []\n",
    "        predicted_labels = []\n",
    "        for i in range(self.num_classes):\n",
    "            # don't need to find adversarial example for true label\n",
    "            if i == true_label:\n",
    "                continue\n",
    "            print(\"attacking target label\", i)\n",
    "            best_attack, all_attacks = self.find_best_attack(x, i, DEBUG=0)\n",
    "            attacks.append(best_attack)\n",
    "            predicted_labels.append(np.argmax(self.model.predict(best_attack)))\n",
    "            print(len(all_attacks), \"attacks found\")\n",
    "        plot_adversarials(attacks, predicted_labels)\n",
    "        return attacks"
   ]
  },
  {
   "cell_type": "markdown",
   "metadata": {},
   "source": [
    "# attack demo"
   ]
  },
  {
   "cell_type": "markdown",
   "metadata": {},
   "source": [
    "## Targeted attack demo:\n",
    "find adversarial examples to miscalssify image 7 as 0"
   ]
  },
  {
   "cell_type": "code",
   "execution_count": 5,
   "metadata": {},
   "outputs": [
    {
     "name": "stdout",
     "output_type": "stream",
     "text": [
      "1 / 9 search steps\n",
      "c value: 100\n",
      "0 adversarials examples found\n",
      "2 / 9 search steps\n",
      "c value: 1000\n",
      "0 adversarials examples found\n",
      "3 / 9 search steps\n",
      "c value: 500.0\n",
      "1 adversarials examples found\n",
      "4 / 9 search steps\n",
      "c value: 250.0\n",
      "2 adversarials examples found\n",
      "5 / 9 search steps\n",
      "c value: 125.0\n",
      "3 adversarials examples found\n",
      "6 / 9 search steps\n",
      "c value: 62.5\n",
      "4 adversarials examples found\n",
      "7 / 9 search steps\n",
      "c value: 625.0\n",
      "4 adversarials examples found\n",
      "8 / 9 search steps\n",
      "c value: 312.5\n",
      "5 adversarials examples found\n",
      "9 / 9 search steps\n",
      "c value: 3125.0\n",
      "5 adversarials examples found\n"
     ]
    },
    {
     "data": {
      "image/png": "[encoded data removed]",
      "text/plain": [
       "<Figure size 576x576 with 5 Axes>"
      ]
     },
     "metadata": {
      "needs_background": "light"
     },
     "output_type": "display_data"
    }
   ],
   "source": [
    "with tf.Session() as sess:\n",
    "    x = load_image('/Users/zetong/mnist_png/testing/7/0.png')\n",
    "    l2attack = cwl2(sess, model)\n",
    "    best_attack, attacks = l2attack.find_best_attack(x, 0)\n",
    "    visualize_adversarials(attacks)"
   ]
  },
  {
   "cell_type": "markdown",
   "metadata": {},
   "source": [
    "## Untargeted attack demo\n",
    "Find adversarial examples that misclassify image 4 from 0 to 9"
   ]
  },
  {
   "cell_type": "code",
   "execution_count": 9,
   "metadata": {},
   "outputs": [
    {
     "name": "stdout",
     "output_type": "stream",
     "text": [
      "attacking target label 0\n",
      "6 attacks found\n",
      "attacking target label 1\n",
      "4 attacks found\n",
      "attacking target label 2\n",
      "9 attacks found\n",
      "attacking target label 3\n",
      "6 attacks found\n",
      "attacking target label 5\n",
      "5 attacks found\n",
      "attacking target label 6\n",
      "5 attacks found\n",
      "attacking target label 7\n",
      "4 attacks found\n",
      "attacking target label 8\n",
      "5 attacks found\n",
      "attacking target label 9\n",
      "6 attacks found\n"
     ]
    },
    {
     "data": {
      "image/png": "[encoded data removed]",
      "text/plain": [
       "<Figure size 576x576 with 9 Axes>"
      ]
     },
     "metadata": {
      "needs_background": "light"
     },
     "output_type": "display_data"
    }
   ],
   "source": [
    "with tf.Session() as sess:\n",
    "    x = load_image('/Users/zetong/mnist_png/testing/4/24.png')\n",
    "    l2attack = cwl2(sess, model)\n",
    "    attacks = l2attack.untargeted_attack(x, 4)"
   ]
  },
  {
   "cell_type": "code",
   "execution_count": null,
   "metadata": {},
   "outputs": [],
   "source": []
  }
 ],
 "metadata": {
  "kernelspec": {
   "display_name": "Python 3",
   "language": "python",
   "name": "python3"
  },
  "language_info": {
   "codemirror_mode": {
    "name": "ipython",
    "version": 3
   },
   "file_extension": ".py",
   "mimetype": "text/x-python",
   "name": "python",
   "nbconvert_exporter": "python",
   "pygments_lexer": "ipython3",
   "version": "3.6.8"
  }
 },
 "nbformat": 4,
 "nbformat_minor": 2
}
