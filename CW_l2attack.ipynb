{
 "cells": [
  {
   "cell_type": "markdown",
   "metadata": {},
   "source": [
    "## load modules and pretrained 99.25% accuracy CNN"
   ]
  },
  {
   "cell_type": "code",
   "execution_count": 38,
   "metadata": {},
   "outputs": [
    {
     "name": "stdout",
     "output_type": "stream",
     "text": [
      "_________________________________________________________________\n",
      "Layer (type)                 Output Shape              Param #   \n",
      "=================================================================\n",
      "conv2d_1 (Conv2D)            (None, 26, 26, 32)        320       \n",
      "_________________________________________________________________\n",
      "conv2d_2 (Conv2D)            (None, 24, 24, 64)        18496     \n",
      "_________________________________________________________________\n",
      "max_pooling2d_1 (MaxPooling2 (None, 12, 12, 64)        0         \n",
      "_________________________________________________________________\n",
      "dropout_1 (Dropout)          (None, 12, 12, 64)        0         \n",
      "_________________________________________________________________\n",
      "flatten_1 (Flatten)          (None, 9216)              0         \n",
      "_________________________________________________________________\n",
      "dense_1 (Dense)              (None, 128)               1179776   \n",
      "_________________________________________________________________\n",
      "dropout_2 (Dropout)          (None, 128)               0         \n",
      "_________________________________________________________________\n",
      "dense_2 (Dense)              (None, 10)                1290      \n",
      "=================================================================\n",
      "Total params: 1,199,882\n",
      "Trainable params: 1,199,882\n",
      "Non-trainable params: 0\n",
      "_________________________________________________________________\n"
     ]
    },
    {
     "name": "stderr",
     "output_type": "stream",
     "text": [
      "/Library/Frameworks/Python.framework/Versions/3.6/lib/python3.6/site-packages/keras/engine/saving.py:327: UserWarning: Error in loading the saved optimizer state. As a result, your model is starting with a freshly initialized optimizer.\n",
      "  warnings.warn('Error in loading the saved optimizer '\n"
     ]
    }
   ],
   "source": [
    "%matplotlib inline\n",
    "import matplotlib.pyplot as plt\n",
    "import numpy as np\n",
    "import PIL\n",
    "import tensorflow as tf\n",
    "from keras.models import load_model\n",
    "from keras import backend as K\n",
    "\n",
    "model = load_model('/Users/zetong/cnn.h5')\n",
    "model.summary()"
   ]
  },
  {
   "cell_type": "markdown",
   "metadata": {},
   "source": [
    "## helper functions"
   ]
  },
  {
   "cell_type": "code",
   "execution_count": 39,
   "metadata": {},
   "outputs": [],
   "source": [
    "# load the image from MNIST dataset into [1,28,28,1] dimension\n",
    "def load_image(image_location):\n",
    "    x = np.asarray(PIL.Image.open(image_location))\n",
    "    x = x.reshape(28,28)\n",
    "    x = x.reshape(1, 28, 28, 1)\n",
    "    x = x.astype('float32')\n",
    "    x /= 255\n",
    "    return x\n",
    "\n",
    "# putting the adversarial examples and their misclassification labels in subplots\n",
    "def plot_adversarials(attacks, predicted_labels):\n",
    "    w=10\n",
    "    h=10\n",
    "    fig=plt.figure(figsize=(8, 8))\n",
    "    columns = len(attacks)\n",
    "    rows = 1\n",
    "    for i in range(1, columns*rows+1):\n",
    "        ax = fig.add_subplot(rows, columns, i)\n",
    "        ax.title.set_text(str(predicted_labels[i-1]))\n",
    "        plt.imshow(attacks[i-1].reshape((28,28)), cmap='Greys')\n",
    "    plt.show()\n",
    "    return\n",
    "\n",
    "# a helper function to visualize a list of adversarial examples\n",
    "def visualize_adversarials(attacks):\n",
    "    w=10\n",
    "    h=10\n",
    "    fig=plt.figure(figsize=(8, 8))\n",
    "    columns = len(attacks)\n",
    "    rows = 1\n",
    "    for i in range(1, columns*rows+1):\n",
    "        ax = fig.add_subplot(rows, columns, i)\n",
    "        plt.imshow(attacks[i-1].reshape((28,28)), cmap='Greys')\n",
    "    plt.show()\n",
    "    return"
   ]
  },
  {
   "cell_type": "markdown",
   "metadata": {},
   "source": [
    "## Carlini&Wagner L2 attack"
   ]
  },
  {
   "cell_type": "code",
   "execution_count": 42,
   "metadata": {},
   "outputs": [],
   "source": [
    "class cwl2:\n",
    "    def __init__(self, sess, model, K=0, max_iterations=1000, step_size=0.1, initial_cost=10, SEARCH_STEPS=9):\n",
    "        self.sess = sess\n",
    "        self.model = model\n",
    "        self.K = K\n",
    "        self.max_iterations = max_iterations\n",
    "        self.step_size = step_size\n",
    "        self.initial_cost = initial_cost\n",
    "        self.SEARCH_STEPS = SEARCH_STEPS\n",
    "    \n",
    "    # return the logits tensor and the nontarget index logits tensor\n",
    "    def get_logits_and_nontarget_logits(self, x_new, target):\n",
    "        logits = model(x_new)\n",
    "        return logits, tf.concat([logits[0][0:target], logits[0][target:-1]], 0)\n",
    "    \n",
    "    # the loss function for l2 attack\n",
    "    def loss(self, x_new, x, target, c):\n",
    "        logits, nontarget_logits = self.get_logits_and_nontarget_logits(x_new, target)\n",
    "        return tf.norm(x_new-x)**2 + c*tf.math.maximum(tf.math.reduce_max(nontarget_logits) - logits[0][target], -self.K)\n",
    "        \n",
    "    # search for the best adversarial examples\n",
    "    def find_best_attack(self, model, x, target):\n",
    "        # all the valid attacks\n",
    "        attacks = []\n",
    "        # initial c value\n",
    "        c = self.initial_cost\n",
    "        K = self.K\n",
    "        for s in range(self.SEARCH_STEPS):\n",
    "            print(s, \"/\", self.SEARCH_STEPS, \"search steps\")\n",
    "            print(\"c value:\", c)\n",
    "            print(len(attacks), \"adversarials examples found\")\n",
    "            x_new = tf.Variable(np.zeros([1,28,28,1]), dtype=tf.float32)\n",
    "            loss = self.loss(x_new, x, target, c)\n",
    "            train = tf.train.AdamOptimizer(self.step_size).minimize(loss, var_list=[x_new])\n",
    "            self.sess.run(tf.global_variables_initializer())\n",
    "            for i in range(self.max_iterations):\n",
    "                self.sess.run(train)\n",
    "                new_img = self.sess.run(x_new)\n",
    "            # if the attack is sucessful\n",
    "            if np.argmax(model.predict(new_img)) == target:\n",
    "                # add it to the valid attacks collection\n",
    "                attacks.append(new_img)\n",
    "                # decrease c value to try to find an attack with less perturbation\n",
    "                c = c*0.5\n",
    "            # if the attack failed\n",
    "            else:\n",
    "                # increase c value to enforce the solver to find a sucessful attack\n",
    "                c = c*10\n",
    "        # let the best attack to be the one with the smallest perturbation\n",
    "        noise_norms = []\n",
    "        for i in range(len(attacks)):\n",
    "            noise_norms.append(np.linalg.norm(attacks[i] - x))\n",
    "        best_attack = attacks[np.argmin(noise_norms)]\n",
    "        return best_attack, attacks"
   ]
  },
  {
   "cell_type": "markdown",
   "metadata": {},
   "source": [
    "## attack demo"
   ]
  },
  {
   "cell_type": "code",
   "execution_count": 43,
   "metadata": {},
   "outputs": [
    {
     "name": "stdout",
     "output_type": "stream",
     "text": [
      "0 / 9 search steps\n",
      "c value: 10\n",
      "0 adversarials examples found\n"
     ]
    },
    {
     "name": "stderr",
     "output_type": "stream",
     "text": [
      "Exception ignored in: <bound method BaseSession._Callable.__del__ of <tensorflow.python.client.session.BaseSession._Callable object at 0x12f6d05c0>>\n",
      "Traceback (most recent call last):\n",
      "  File \"/Library/Frameworks/Python.framework/Versions/3.6/lib/python3.6/site-packages/tensorflow/python/client/session.py\", line 1455, in __del__\n",
      "    self._session._session, self._handle, status)\n",
      "  File \"/Library/Frameworks/Python.framework/Versions/3.6/lib/python3.6/site-packages/tensorflow/python/framework/errors_impl.py\", line 528, in __exit__\n",
      "    c_api.TF_GetCode(self.status.status))\n",
      "tensorflow.python.framework.errors_impl.CancelledError: Session has been closed.\n"
     ]
    },
    {
     "name": "stdout",
     "output_type": "stream",
     "text": [
      "1 / 9 search steps\n",
      "c value: 100\n",
      "0 adversarials examples found\n",
      "2 / 9 search steps\n",
      "c value: 1000\n",
      "0 adversarials examples found\n",
      "3 / 9 search steps\n",
      "c value: 500.0\n",
      "1 adversarials examples found\n",
      "4 / 9 search steps\n",
      "c value: 5000.0\n",
      "1 adversarials examples found\n",
      "5 / 9 search steps\n",
      "c value: 2500.0\n",
      "2 adversarials examples found\n",
      "6 / 9 search steps\n",
      "c value: 1250.0\n",
      "3 adversarials examples found\n",
      "7 / 9 search steps\n",
      "c value: 625.0\n",
      "4 adversarials examples found\n",
      "8 / 9 search steps\n",
      "c value: 312.5\n",
      "5 adversarials examples found\n",
      "[[0.10426883 0.10324144 0.10087687 0.09372535 0.09337096 0.10284226\n",
      "  0.09259053 0.09675499 0.10848326 0.10384554]]\n",
      "[[0.10805981 0.10238487 0.10190596 0.09114076 0.09287121 0.10270175\n",
      "  0.09544742 0.09610377 0.10522855 0.10415585]]\n",
      "[[0.10349648 0.10110027 0.10042085 0.0942213  0.09290167 0.1024693\n",
      "  0.09449645 0.09587725 0.10958394 0.10543246]]\n",
      "[[0.10349742 0.1036738  0.09894219 0.09408557 0.09419609 0.10259634\n",
      "  0.09416071 0.09727618 0.10692626 0.10464554]]\n",
      "[[0.10497852 0.1010906  0.10020002 0.09272578 0.09270094 0.10218285\n",
      "  0.09515979 0.09669598 0.10825906 0.10600646]]\n"
     ]
    },
    {
     "data": {
      "image/png": "[encoded data removed]",
      "text/plain": [
       "<Figure size 576x576 with 5 Axes>"
      ]
     },
     "metadata": {
      "needs_background": "light"
     },
     "output_type": "display_data"
    }
   ],
   "source": [
    "with tf.Session() as sess:\n",
    "    x = load_image('/Users/zetong/mnist_png/testing/4/24.png')\n",
    "    l2attack = cwl2(sess, model)\n",
    "    best_attack, attacks = l2attack.find_best_attack(model, x, 0)\n",
    "    for i in range(len(attacks)):\n",
    "        print(model.predict(attacks[i]))\n",
    "    visualize_adversarials(attacks)"
   ]
  },
  {
   "cell_type": "code",
   "execution_count": null,
   "metadata": {},
   "outputs": [],
   "source": []
  }
 ],
 "metadata": {
  "kernelspec": {
   "display_name": "Python 3",
   "language": "python",
   "name": "python3"
  },
  "language_info": {
   "codemirror_mode": {
    "name": "ipython",
    "version": 3
   },
   "file_extension": ".py",
   "mimetype": "text/x-python",
   "name": "python",
   "nbconvert_exporter": "python",
   "pygments_lexer": "ipython3",
   "version": "3.6.8"
  }
 },
 "nbformat": 4,
 "nbformat_minor": 2
}
