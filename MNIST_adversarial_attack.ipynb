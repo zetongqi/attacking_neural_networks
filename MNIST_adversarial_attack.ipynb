{
 "cells": [
  {
   "cell_type": "markdown",
   "metadata": {},
   "source": [
    "# loading modules and pretrained neural network"
   ]
  },
  {
   "cell_type": "code",
   "execution_count": 8,
   "metadata": {},
   "outputs": [],
   "source": [
    "%matplotlib inline\n",
    "import pickle\n",
    "import matplotlib.pyplot as plt\n",
    "import numpy as np\n",
    "import PIL\n",
    "from scipy.special import softmax\n",
    "\n",
    "# load pretrained network\n",
    "with open('network/trained_network.pkl', 'rb') as f:\n",
    "    u = pickle._Unpickler(f)\n",
    "    u.encoding = 'latin1'\n",
    "    net = u.load()\n",
    "\n",
    "def load_image(image_location):\n",
    "    x = np.asarray(PIL.Image.open(image_location))\n",
    "    x = x.reshape(28,28)\n",
    "    x = x.reshape(784, 1)\n",
    "    x = x.astype('float32')\n",
    "    x /= 255\n",
    "    return x"
   ]
  },
  {
   "cell_type": "markdown",
   "metadata": {},
   "source": [
    "# prediction function"
   ]
  },
  {
   "cell_type": "code",
   "execution_count": 14,
   "metadata": {},
   "outputs": [],
   "source": [
    "# make prediction on input feature vector x and return the softmax result\n",
    "def predict(net, x):\n",
    "    print('Network prediction: ' + str(np.argmax(net.feedforward(x))) + '\\n')\n",
    "    print('Actual image: ')\n",
    "    plt.imshow(x.reshape((28,28)), cmap='Greys')\n",
    "    return softmax(net.feedforward(x))"
   ]
  },
  {
   "cell_type": "markdown",
   "metadata": {},
   "source": [
    "# prediction demo"
   ]
  },
  {
   "cell_type": "code",
   "execution_count": 15,
   "metadata": {},
   "outputs": [
    {
     "name": "stdout",
     "output_type": "stream",
     "text": [
      "Network prediction: 2\n",
      "\n",
      "Actual image: \n"
     ]
    },
    {
     "data": {
      "text/plain": [
       "array([[0.08531952],\n",
       "       [0.08531952],\n",
       "       [0.23192219],\n",
       "       [0.08531952],\n",
       "       [0.08531952],\n",
       "       [0.08531952],\n",
       "       [0.08532645],\n",
       "       [0.08551473],\n",
       "       [0.08531952],\n",
       "       [0.08531952]])"
      ]
     },
     "execution_count": 15,
     "metadata": {},
     "output_type": "execute_result"
    },
    {
     "data": {
      "image/png": "[encoded data removed]",
      "text/plain": [
       "<Figure size 432x288 with 1 Axes>"
      ]
     },
     "metadata": {
      "needs_background": "light"
     },
     "output_type": "display_data"
    }
   ],
   "source": [
    "x = load_image('/Users/zetong/mnist_png/testing/2/1722.png')\n",
    "predict(net, x)"
   ]
  },
  {
   "cell_type": "markdown",
   "metadata": {},
   "source": [
    "# functions for creating adversarial examples\n",
    "The attack is solving an optimization:\n",
    "$$ min_{x} \\quad \\|\\vec y_{goal} - y_{hat}(\\vec x)\\|^2_2 + \\lambda \\|\\vec x - \\vec x_{target}\\|^2_2 $$\n",
    "\n",
    "Function input_derivative is taking the gradient of output y with respect to the input x: $\\frac{\\partial y}{\\partial x}$ for the particular neural network net.\n",
    "\n",
    "Funtion targeted_attack finds the adversarial example x that would be misclassified by net as target label.\n",
    "\n",
    "Function nontargeted_attack finds all the adversarial example with all possible misclassified labels"
   ]
  },
  {
   "cell_type": "code",
   "execution_count": 4,
   "metadata": {},
   "outputs": [],
   "source": [
    "# sigmoid function\n",
    "def sigmoid(z):\n",
    "    return 1.0/(1.0+np.exp(-z))\n",
    "# derivative of sigmoid function                                                                                                                                                                                \n",
    "def sigmoid_prime(z):\n",
    "    return sigmoid(z)*(1-sigmoid(z))\n",
    "\n",
    "def input_derivative(net, x, y):\n",
    "    \"\"\" Calculate derivatives wrt the inputs\"\"\"\n",
    "    nabla_b = [np.zeros(b.shape) for b in net.biases]\n",
    "    nabla_w = [np.zeros(w.shape) for w in net.weights]\n",
    "    \n",
    "    # feedforward\n",
    "    activation = x\n",
    "    activations = [x] # list to store all the activations, layer by layer\n",
    "    zs = [] # list to store all the z vectors, layer by layer\n",
    "    for b, w in zip(net.biases, net.weights):\n",
    "        z = np.dot(w, activation)+b\n",
    "        zs.append(z)\n",
    "        activation = sigmoid(z)\n",
    "        activations.append(activation)\n",
    "        \n",
    "    # backward pass\n",
    "    delta = net.cost_derivative(activations[-1], y) * \\\n",
    "        sigmoid_prime(zs[-1])\n",
    "    nabla_b[-1] = delta\n",
    "    nabla_w[-1] = np.dot(delta, activations[-2].transpose())\n",
    "\n",
    "    for l in range(2, net.num_layers):\n",
    "        z = zs[-l]\n",
    "        sp = sigmoid_prime(z)\n",
    "        delta = np.dot(net.weights[-l+1].transpose(), delta) * sp\n",
    "        nabla_b[-l] = delta\n",
    "        nabla_w[-l] = np.dot(delta, activations[-l-1].transpose())\n",
    "        \n",
    "    # Return derivatives WRT to input\n",
    "    return net.weights[0].T.dot(delta)\n",
    "\n",
    "# net: neural network object, target_label: target label, x_target: x feature vector, steps: gradient descent steps,\n",
    "# eta: step size, lam: regularization constant\n",
    "def targeted_attack(net, target_label, x_target, steps, eta, lam=0.05):    \n",
    "    # Set the one-hot target output\n",
    "    goal = np.zeros((10, 1))\n",
    "    goal[target_label] = 1\n",
    "    \n",
    "    # gradient descent starting point\n",
    "    x = np.random.normal(.5, .3, (784, 1))\n",
    "\n",
    "    # Gradient descent on the input\n",
    "    for i in range(steps):\n",
    "        # derivative\n",
    "        d = input_derivative(net,x,goal)\n",
    "        # gradient update\n",
    "        x -= eta * (d + lam * (x - x_target))\n",
    "\n",
    "    return x\n",
    "\n",
    "# find all the possible mislabelling for input sample x_target\n",
    "def nontargeted_attack(net, x_target, true_label, steps, eta, class_num, lam=0.05):\n",
    "    attacks = []\n",
    "    predicted_labels = []\n",
    "    for i in range(class_num):\n",
    "        goal = np.zeros((10, 1))\n",
    "        goal[i] = 1\n",
    "\n",
    "        # gradient descent starting point\n",
    "        x = np.random.normal(.5, .3, (784, 1))\n",
    "\n",
    "        # Gradient descent on the input\n",
    "        for i in range(steps):\n",
    "            # derivative\n",
    "            d = input_derivative(net,x,goal)\n",
    "            # gradient update\n",
    "            x -= eta * (d + lam * (x - x_target))\n",
    "        prediction = np.argmax(net.feedforward(x))\n",
    "        if prediction != true_label:\n",
    "            attacks.append(x)\n",
    "            predicted_labels.append(prediction)\n",
    "    return attacks, predicted_labels\n",
    "\n",
    "# putting the adversarial examples and their misclassification labels in subplots\n",
    "def plot_adversarials(attacks, predicted_labels):\n",
    "    w=10\n",
    "    h=10\n",
    "    fig=plt.figure(figsize=(8, 8))\n",
    "    columns = len(attacks)\n",
    "    rows = 1\n",
    "    for i in range(1, columns*rows+1):\n",
    "        ax = fig.add_subplot(rows, columns, i)\n",
    "        ax.title.set_text(\"Prediction: \" + str(predicted_labels[i-1]))\n",
    "        plt.imshow(attacks[i-1].reshape((28,28)), cmap='Greys')\n",
    "    plt.show()\n",
    "\n",
    "# wrapper function for creating adversarial examples\n",
    "def attack(net, x, steps=10000, eta=0.1, lam=0.01):\n",
    "    # number of classes\n",
    "    class_num = net.sizes[-1]\n",
    "    # true label\n",
    "    true_label = np.argmax(net.feedforward(x))\n",
    "    # get the adversarial examples and their respective misclassification labels\n",
    "    attacks, predicted_labels = nontargeted_attack(net, x, true_label, steps, eta, class_num)\n",
    "    plot_adversarials(attacks, predicted_labels)"
   ]
  },
  {
   "cell_type": "markdown",
   "metadata": {},
   "source": [
    "# attack demo"
   ]
  },
  {
   "cell_type": "code",
   "execution_count": 18,
   "metadata": {},
   "outputs": [
    {
     "name": "stdout",
     "output_type": "stream",
     "text": [
      "Network prediction: 2\n",
      "\n",
      "Actual image: \n"
     ]
    },
    {
     "data": {
      "text/plain": [
       "array([[0.0854114 ],\n",
       "       [0.08540737],\n",
       "       [0.22763299],\n",
       "       [0.08540737],\n",
       "       [0.08540737],\n",
       "       [0.0854075 ],\n",
       "       [0.08910387],\n",
       "       [0.08540737],\n",
       "       [0.08540737],\n",
       "       [0.08540737]])"
      ]
     },
     "execution_count": 18,
     "metadata": {},
     "output_type": "execute_result"
    },
    {
     "data": {
      "image/png": "[encoded data removed]",
      "text/plain": [
       "<Figure size 432x288 with 1 Axes>"
      ]
     },
     "metadata": {
      "needs_background": "light"
     },
     "output_type": "display_data"
    }
   ],
   "source": [
    "x = load_image('/Users/zetong/mnist_png/testing/6/88.png')\n",
    "predict(net, targeted_attack(net, 2, x, 10000, 0.1))"
   ]
  },
  {
   "cell_type": "code",
   "execution_count": 21,
   "metadata": {},
   "outputs": [
    {
     "data": {
      "image/png": "[encoded data removed]",
      "text/plain": [
       "<Figure size 576x576 with 4 Axes>"
      ]
     },
     "metadata": {
      "needs_background": "light"
     },
     "output_type": "display_data"
    }
   ],
   "source": [
    "x = load_image('/Users/zetong/mnist_png/testing/3/32.png')\n",
    "attacks, predicted_labels = nontargeted_attack(net, x, 3, 10000, 0.1, 10)\n",
    "plot_adversarials(attacks, predicted_labels)"
   ]
  },
  {
   "cell_type": "code",
   "execution_count": 23,
   "metadata": {},
   "outputs": [
    {
     "data": {
      "image/png": "[encoded data removed]",
      "text/plain": [
       "<Figure size 576x576 with 5 Axes>"
      ]
     },
     "metadata": {
      "needs_background": "light"
     },
     "output_type": "display_data"
    }
   ],
   "source": [
    "x = load_image('/Users/zetong/mnist_png/testing/5/102.png')\n",
    "attack(net, x)"
   ]
  },
  {
   "cell_type": "code",
   "execution_count": null,
   "metadata": {},
   "outputs": [],
   "source": []
  }
 ],
 "metadata": {
  "kernelspec": {
   "display_name": "Python 3",
   "language": "python",
   "name": "python3"
  },
  "language_info": {
   "codemirror_mode": {
    "name": "ipython",
    "version": 3
   },
   "file_extension": ".py",
   "mimetype": "text/x-python",
   "name": "python",
   "nbconvert_exporter": "python",
   "pygments_lexer": "ipython3",
   "version": "3.6.8"
  }
 },
 "nbformat": 4,
 "nbformat_minor": 2
}
